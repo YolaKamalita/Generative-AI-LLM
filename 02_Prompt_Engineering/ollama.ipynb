{
 "cells": [
  {
   "cell_type": "code",
   "execution_count": 7,
   "metadata": {},
   "outputs": [],
   "source": [
    "import os\n",
    "import ollama"
   ]
  },
  {
   "cell_type": "code",
   "execution_count": 2,
   "metadata": {},
   "outputs": [],
   "source": [
    "os.environ['NO_PROXY'] = '127.0.0.1'"
   ]
  },
  {
   "cell_type": "markdown",
   "metadata": {},
   "source": [
    "# Prompt Engineering"
   ]
  },
  {
   "cell_type": "markdown",
   "metadata": {},
   "source": [
    "## Zero-Shot Prompting"
   ]
  },
  {
   "cell_type": "code",
   "execution_count": 8,
   "metadata": {},
   "outputs": [],
   "source": [
    "from ollama import chat"
   ]
  },
  {
   "cell_type": "code",
   "execution_count": 15,
   "metadata": {},
   "outputs": [
    {
     "name": "stdout",
     "output_type": "stream",
     "text": [
      "While deep learning has become a crucial part of the machine learning landscape, it's not necessarily a requirement for everyone. Whether or not you \"need\" to learn deep learning depends on your specific goals, interests, and career aspirations.\n",
      "\n",
      "Here are some points to consider:\n",
      "\n",
      "Pros of learning deep learning:\n",
      "\n",
      "1. **High-demand skills**: Deep learning is a highly sought-after skill in the industry, particularly in areas like computer vision, natural language processing, and speech recognition.\n",
      "2. **Advancements in AI**: Deep learning has enabled significant breakthroughs in artificial intelligence, such as image recognition, object detection, and natural language understanding.\n",
      "3. **Applications in various fields**: Deep learning has applications in many domains, including healthcare, finance, marketing, and more.\n",
      "\n",
      "Cons of not learning deep learning:\n",
      "\n",
      "1. **Limited career opportunities**: In some industries or roles, deep learning may be a requirement for advancement or success.\n",
      "2. **Oversimplification of machine learning**: Not understanding deep learning can lead to oversimplification of machine learning concepts, making it harder to tackle complex problems.\n",
      "3. **Difficulty in staying up-to-date**: The field of deep learning is rapidly evolving, and not staying current with the latest developments can make it challenging to keep pace.\n",
      "\n",
      "Who might benefit from learning deep learning:\n",
      "\n",
      "1. **Aspiring data scientists**: Deep learning is a fundamental skill for data scientists working in AI-related fields.\n",
      "2. **Machine learning engineers**: Understanding deep learning is crucial for building and deploying machine learning models in various applications.\n",
      "3. **Computer vision or NLP enthusiasts**: If you're interested in computer vision, natural language processing, or other areas where deep learning excels, it's worth exploring the subject.\n",
      "\n",
      "Who might not need to learn deep learning:\n",
      "\n",
      "1. **Small businesses or startups with limited resources**: In smaller organizations, machine learning may not be a priority, and deep learning might not be necessary.\n",
      "2. **Non-technical roles**: If you're in a non-technical role, such as marketing, sales, or management, deep learning might not be directly applicable to your work.\n",
      "\n",
      "In conclusion, while deep learning is an essential skill for many professionals, it's not a one-size-fits-all requirement. Whether or not you \"need\" to learn deep learning depends on your individual circumstances, career goals, and industry demands.\n"
     ]
    }
   ],
   "source": [
    "messages = [\n",
    "  {\n",
    "    'role': 'user',\n",
    "    'content': 'Do we still need to learn Deep Learning?',\n",
    "  },\n",
    "]\n",
    "\n",
    "response = chat(model='llama3.2', messages=messages)\n",
    "print(response['message']['content'])"
   ]
  },
  {
   "cell_type": "markdown",
   "metadata": {},
   "source": [
    "## One-Shot Prompting"
   ]
  },
  {
   "cell_type": "code",
   "execution_count": 18,
   "metadata": {},
   "outputs": [
    {
     "name": "stdout",
     "output_type": "stream",
     "text": [
      "Rose is a type of flowering plant with delicate and fragrant blooms. Roses come in various colors, such as red, pink, purple, yellow, white, and more, and they can be either single or double blossoms.\n",
      "The rose has been used for thousands of years in various cultures around the world, from ancient Greece to medieval Europe. It is a popular flower in many countries and is widely cultivated both for its beauty and its medicinal properties.\n",
      "Roses are typically grown in containers, in gardens, in parks, and on balconies. They can be trimmed into different shapes such as single or double blooms, and they can also be used in bouquets to express love or appreciation.\n",
      "In summary, a rose is an flowering plant with delicate and fragrant blooms, often seen in gardens and at home for its beauty and potential health benefits.\n"
     ]
    }
   ],
   "source": [
    "response = ollama.chat(\n",
    "    model='qwen2.5:0.5b',\n",
    "    messages=[\n",
    "        {'role': 'user', 'content': 'Example: What is cow?'},\n",
    "        {'role': 'assistant', 'content': 'Cow is an animal.'},\n",
    "        {'role': 'user', 'content': 'What is rose?'}\n",
    "    ]\n",
    ")\n",
    "\n",
    "print(response['message']['content'])"
   ]
  },
  {
   "cell_type": "code",
   "execution_count": 19,
   "metadata": {},
   "outputs": [
    {
     "name": "stdout",
     "output_type": "stream",
     "text": [
      "A rose is a type of flowering plant.\n"
     ]
    }
   ],
   "source": [
    "response = ollama.chat(\n",
    "    model='llama3.2',\n",
    "    messages=[\n",
    "        {'role': 'user', 'content': 'Example: What is cow?'},\n",
    "        {'role': 'assistant', 'content': 'Cow is an animal.'},\n",
    "        {'role': 'user', 'content': 'What is rose?'}\n",
    "    ]\n",
    ")\n",
    "\n",
    "print(response['message']['content'])"
   ]
  },
  {
   "cell_type": "markdown",
   "metadata": {},
   "source": [
    "## Few-Shot Prompting"
   ]
  },
  {
   "cell_type": "code",
   "execution_count": 20,
   "metadata": {},
   "outputs": [
    {
     "name": "stdout",
     "output_type": "stream",
     "text": [
      "Spinach is a leafy green vegetable.\n"
     ]
    }
   ],
   "source": [
    "response = ollama.chat(\n",
    "    model='llama3.2',\n",
    "    messages=[\n",
    "        {'role': 'user', 'content': 'What is cow?'},\n",
    "        {'role': 'assistant', 'content': 'Cow is an animal.'},\n",
    "        {'role': 'user', 'content': 'What is rose?'},\n",
    "        {'role': 'assistant', 'content': 'Rose is a plant.'},\n",
    "        {'role': 'user', 'content': 'What is spinach?'}\n",
    "    ]\n",
    ")\n",
    "\n",
    "print(response['message']['content'])"
   ]
  },
  {
   "cell_type": "markdown",
   "metadata": {},
   "source": [
    "## Chain of Thought"
   ]
  },
  {
   "cell_type": "code",
   "execution_count": 28,
   "metadata": {},
   "outputs": [
    {
     "name": "stdout",
     "output_type": "stream",
     "text": [
      "In this case, both sunglasses are eligible for a 15% discount.\n",
      "\n",
      "First, calculate the total price before discount: $100 + $100 = $200\n",
      "Then, calculate the total discount: $200 x 0.15 = $30\n",
      "Finally, subtract the discount from the total price to find the final price: $200 - $30 = $170\n",
      "\n",
      "So, you should pay $170 for both sunglasses.\n"
     ]
    }
   ],
   "source": [
    "response = ollama.chat(\n",
    "    model='llama3.2',\n",
    "    messages=[\n",
    "        {'role': 'user', 'content': 'I went to the optical store. There is a promo that buy 1 get 10 percent discount, and buy 2 get 15 percent discount for both items. I bought 2 sunglasses, first cost me USD 50 and second cost me USD 30, how much that I should pay?'},\n",
    "        {'role': 'assistant', 'content': 'Lets do it step-by-step. The purchased sunglasses is 2, so it is eligble for 15 percent discount for both. The total discount is (USD 50 * 0.15) + (USD 30 x 0.15) = USD 12. The total price before discout is USD 80, so the total price after discount is USD 80 - USD 12 = USD 68 that you need to pay.'},\n",
    "        {'role': 'user', 'content': 'If I buy 2, each of them cost me $100. How much I should pay?'},\n",
    "    ]\n",
    ")\n",
    "\n",
    "print(response['message']['content'])"
   ]
  },
  {
   "cell_type": "code",
   "execution_count": 27,
   "metadata": {},
   "outputs": [
    {
     "name": "stdout",
     "output_type": "stream",
     "text": [
      "Since it's a \"buy 1 get 10% discount\" deal, you'll only receive the discount on the first item.\n",
      "\n",
      "The original price of the first item is USD 100.\n",
      "You'll get a 10% discount on that.\n",
      "\n",
      "Discount amount = USD 100 x 0.10 = USD 10\n",
      "\n",
      "So, after applying the discount, the new price will be:\n",
      "USD 100 - USD 10 = USD 90\n",
      "\n",
      "Therefore, you should pay USD 90 for the first item.\n"
     ]
    }
   ],
   "source": [
    "response = ollama.chat(\n",
    "    model='llama3.2',\n",
    "    messages=[\n",
    "        {'role': 'user', 'content': 'I went to the optical store. There is a promo that buy 1 get 10 percent discount, and buy 2 get 15 percent discount for both items. I bought 2 sunglasses, first cost me USD 50 and second cost me USD 30, how much that I should pay?'},\n",
    "        {'role': 'assistant', 'content': 'Lets do it step-by-step. The purchased sunglasses is 2, so it is eligble for 15 percent discount for both. The total discount is (USD 50 * 0.15) + (USD 30 x 0.15) = USD 12. The total price before discout is USD 80, so the total price after discount is USD 80 - USD 12 = USD 68 that you need to pay.'},\n",
    "        {'role': 'user', 'content': 'If I buy 1, and cost me $100. How much I should pay?'},\n",
    "    ]\n",
    ")\n",
    "\n",
    "print(response['message']['content'])"
   ]
  },
  {
   "cell_type": "code",
   "execution_count": null,
   "metadata": {},
   "outputs": [],
   "source": []
  }
 ],
 "metadata": {
  "kernelspec": {
   "display_name": ".venv",
   "language": "python",
   "name": "python3"
  },
  "language_info": {
   "codemirror_mode": {
    "name": "ipython",
    "version": 3
   },
   "file_extension": ".py",
   "mimetype": "text/x-python",
   "name": "python",
   "nbconvert_exporter": "python",
   "pygments_lexer": "ipython3",
   "version": "3.13.0"
  }
 },
 "nbformat": 4,
 "nbformat_minor": 2
}
